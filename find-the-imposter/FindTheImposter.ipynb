{
 "cells": [
  {
   "cell_type": "markdown",
   "metadata": {},
   "source": [
    "# Final Project of Introduction to Bioinformatics\n",
    "\n",
    "## Find The Imposter - Deciphering Mysterious Sequences\n",
    "\n",
    "#### TA: Javad Razi (j.razi@outlook.com)"
   ]
  },
  {
   "cell_type": "markdown",
   "metadata": {},
   "source": [
    "## Project Description: The Genomic Detective - Delving into Avian DNA with Galaxy\n",
    "\n",
    "### Overview\n",
    "\n",
    "Welcome to an exploratory journey into the world of bioinformatics, where we will delve into the DNA of flying species. This project presents a unique opportunity to unravel a genomic mystery using Galaxy, a sophisticated yet user-friendly bioinformatics platform. Your mission is to assemble a genome from short-read sequences, revealing insights into a specific DNA sequence found in various avian species. Along the way, you'll learn to navigate the complexities of genome assembly and conduct detailed BLAST searches, piecing together a puzzle millions of years in the making. \n",
    "\n",
    "### Objectives and Workflow\n",
    "\n",
    "1. **Introduction and Setup with Galaxy:**\n",
    "   - Start by exploring the Galaxy platform, designed for bioinformatics analysis. You can find a comprehensive introduction and a step-by-step guide on how to use Galaxy, including how to set up your work environment and get data into Galaxy, at the [Galaxy Project Training Network](https://training.galaxyproject.org/). This resource provides a hands-on introduction to Genomics and Galaxy, covering basic aspects like creating a new history and using the Get Data toolbox.\n",
    "\n",
    "2. **Genome Assembly:**\n",
    "   - For learning about genome assembly methods, the [Galaxy Project Training Network](https://training.galaxyproject.org/) offers a variety of resources and guides. This site provides access to a wide range of learning materials, helping users to understand the intricacies of genome assembly within the Galaxy platform.\n",
    "\n",
    "3. **Performing BLAST Searches:**\n",
    "   - To understand how to perform BLAST searches using Galaxy, the NCBI BLAST User Guide remains a crucial resource. You can access it at [NCBI's BLAST User Guide](https://www.ncbi.nlm.nih.gov/books/NBK279690/). This guide offers detailed instructions and insights into using BLAST for sequence comparison and analysis.\n",
    "\n",
    "4. **Comparative Genomics and Analysis:**\n",
    "   - Compare your findings against existing genomic data. This comparative analysis will help you shed light on the unique aspects of your assembled sequence and its significance in avian genetics.\n",
    "\n",
    "### Specific Deliverables\n",
    "\n",
    "- **Complete Code:** Submit all the code you used for assembling the genome, performing BLAST searches, and further analysis. Ensure your code is well-commented and organized for clarity.\n",
    "- **Assembled Genome Fasta File:** Provide the fasta file of the assembled genome. This should be the direct output of your assembly process.\n",
    "- **BLAST Results CSV File:** Include a CSV file with the results from your BLAST searches. This file should contain detailed information about any genomic matches found.\n",
    "- **Detailed Interpretation:** At the end of your notebook, include a thorough interpretation of your findings. Discuss the significance of the sequence within the avian genome, any similarities or differences with sequences in other species, and the potential implications of these results. Your interpretation should be grounded in the data analysis conducted."
   ]
  },
  {
   "cell_type": "code",
   "execution_count": 2,
   "metadata": {},
   "outputs": [
    {
     "name": "stdout",
     "output_type": "stream",
     "text": [
      "bioblend is NOT installed\n"
     ]
    },
    {
     "ename": "CalledProcessError",
     "evalue": "Command '['c:\\\\Users\\\\morte\\\\AppData\\\\Local\\\\Programs\\\\Python\\\\Python312\\\\python.exe', '-m', 'pip', 'install', 'bioblend']' returned non-zero exit status 1.",
     "output_type": "error",
     "traceback": [
      "\u001b[1;31m---------------------------------------------------------------------------\u001b[0m",
      "\u001b[1;31mDistributionNotFound\u001b[0m                      Traceback (most recent call last)",
      "Cell \u001b[1;32mIn[2], line 16\u001b[0m\n\u001b[0;32m     15\u001b[0m \u001b[38;5;28;01mtry\u001b[39;00m:\n\u001b[1;32m---> 16\u001b[0m     dist \u001b[38;5;241m=\u001b[39m \u001b[43mpkg_resources\u001b[49m\u001b[38;5;241;43m.\u001b[39;49m\u001b[43mget_distribution\u001b[49m\u001b[43m(\u001b[49m\u001b[43mpackage\u001b[49m\u001b[43m)\u001b[49m\n\u001b[0;32m     17\u001b[0m     \u001b[38;5;28mprint\u001b[39m(\u001b[38;5;124m'\u001b[39m\u001b[38;5;132;01m{}\u001b[39;00m\u001b[38;5;124m (\u001b[39m\u001b[38;5;132;01m{}\u001b[39;00m\u001b[38;5;124m) is installed\u001b[39m\u001b[38;5;124m'\u001b[39m\u001b[38;5;241m.\u001b[39mformat(dist\u001b[38;5;241m.\u001b[39mkey, dist\u001b[38;5;241m.\u001b[39mversion))\n",
      "File \u001b[1;32mc:\\Users\\morte\\AppData\\Local\\Programs\\Python\\Python312\\Lib\\site-packages\\pkg_resources\\__init__.py:528\u001b[0m, in \u001b[0;36mget_distribution\u001b[1;34m(dist)\u001b[0m\n\u001b[0;32m    527\u001b[0m \u001b[38;5;28;01mif\u001b[39;00m \u001b[38;5;28misinstance\u001b[39m(dist, Requirement):\n\u001b[1;32m--> 528\u001b[0m     dist \u001b[38;5;241m=\u001b[39m \u001b[43mget_provider\u001b[49m\u001b[43m(\u001b[49m\u001b[43mdist\u001b[49m\u001b[43m)\u001b[49m\n\u001b[0;32m    529\u001b[0m \u001b[38;5;28;01mif\u001b[39;00m \u001b[38;5;129;01mnot\u001b[39;00m \u001b[38;5;28misinstance\u001b[39m(dist, Distribution):\n",
      "File \u001b[1;32mc:\\Users\\morte\\AppData\\Local\\Programs\\Python\\Python312\\Lib\\site-packages\\pkg_resources\\__init__.py:400\u001b[0m, in \u001b[0;36mget_provider\u001b[1;34m(moduleOrReq)\u001b[0m\n\u001b[0;32m    399\u001b[0m \u001b[38;5;28;01mif\u001b[39;00m \u001b[38;5;28misinstance\u001b[39m(moduleOrReq, Requirement):\n\u001b[1;32m--> 400\u001b[0m     \u001b[38;5;28;01mreturn\u001b[39;00m working_set\u001b[38;5;241m.\u001b[39mfind(moduleOrReq) \u001b[38;5;129;01mor\u001b[39;00m \u001b[43mrequire\u001b[49m\u001b[43m(\u001b[49m\u001b[38;5;28;43mstr\u001b[39;49m\u001b[43m(\u001b[49m\u001b[43mmoduleOrReq\u001b[49m\u001b[43m)\u001b[49m\u001b[43m)\u001b[49m[\u001b[38;5;241m0\u001b[39m]\n\u001b[0;32m    401\u001b[0m \u001b[38;5;28;01mtry\u001b[39;00m:\n",
      "File \u001b[1;32mc:\\Users\\morte\\AppData\\Local\\Programs\\Python\\Python312\\Lib\\site-packages\\pkg_resources\\__init__.py:968\u001b[0m, in \u001b[0;36mWorkingSet.require\u001b[1;34m(self, *requirements)\u001b[0m\n\u001b[0;32m    960\u001b[0m \u001b[38;5;250m\u001b[39m\u001b[38;5;124;03m\"\"\"Ensure that distributions matching `requirements` are activated\u001b[39;00m\n\u001b[0;32m    961\u001b[0m \n\u001b[0;32m    962\u001b[0m \u001b[38;5;124;03m`requirements` must be a string or a (possibly-nested) sequence\u001b[39;00m\n\u001b[1;32m   (...)\u001b[0m\n\u001b[0;32m    966\u001b[0m \u001b[38;5;124;03mincluded, even if they were already activated in this working set.\u001b[39;00m\n\u001b[0;32m    967\u001b[0m \u001b[38;5;124;03m\"\"\"\u001b[39;00m\n\u001b[1;32m--> 968\u001b[0m needed \u001b[38;5;241m=\u001b[39m \u001b[38;5;28;43mself\u001b[39;49m\u001b[38;5;241;43m.\u001b[39;49m\u001b[43mresolve\u001b[49m\u001b[43m(\u001b[49m\u001b[43mparse_requirements\u001b[49m\u001b[43m(\u001b[49m\u001b[43mrequirements\u001b[49m\u001b[43m)\u001b[49m\u001b[43m)\u001b[49m\n\u001b[0;32m    970\u001b[0m \u001b[38;5;28;01mfor\u001b[39;00m dist \u001b[38;5;129;01min\u001b[39;00m needed:\n",
      "File \u001b[1;32mc:\\Users\\morte\\AppData\\Local\\Programs\\Python\\Python312\\Lib\\site-packages\\pkg_resources\\__init__.py:829\u001b[0m, in \u001b[0;36mWorkingSet.resolve\u001b[1;34m(self, requirements, env, installer, replace_conflicting, extras)\u001b[0m\n\u001b[0;32m    827\u001b[0m     \u001b[38;5;28;01mcontinue\u001b[39;00m\n\u001b[1;32m--> 829\u001b[0m dist \u001b[38;5;241m=\u001b[39m \u001b[38;5;28;43mself\u001b[39;49m\u001b[38;5;241;43m.\u001b[39;49m\u001b[43m_resolve_dist\u001b[49m\u001b[43m(\u001b[49m\n\u001b[0;32m    830\u001b[0m \u001b[43m    \u001b[49m\u001b[43mreq\u001b[49m\u001b[43m,\u001b[49m\u001b[43m \u001b[49m\u001b[43mbest\u001b[49m\u001b[43m,\u001b[49m\u001b[43m \u001b[49m\u001b[43mreplace_conflicting\u001b[49m\u001b[43m,\u001b[49m\u001b[43m \u001b[49m\u001b[43menv\u001b[49m\u001b[43m,\u001b[49m\u001b[43m \u001b[49m\u001b[43minstaller\u001b[49m\u001b[43m,\u001b[49m\u001b[43m \u001b[49m\u001b[43mrequired_by\u001b[49m\u001b[43m,\u001b[49m\u001b[43m \u001b[49m\u001b[43mto_activate\u001b[49m\n\u001b[0;32m    831\u001b[0m \u001b[43m\u001b[49m\u001b[43m)\u001b[49m\n\u001b[0;32m    833\u001b[0m \u001b[38;5;66;03m# push the new requirements onto the stack\u001b[39;00m\n",
      "File \u001b[1;32mc:\\Users\\morte\\AppData\\Local\\Programs\\Python\\Python312\\Lib\\site-packages\\pkg_resources\\__init__.py:870\u001b[0m, in \u001b[0;36mWorkingSet._resolve_dist\u001b[1;34m(self, req, best, replace_conflicting, env, installer, required_by, to_activate)\u001b[0m\n\u001b[0;32m    869\u001b[0m         requirers \u001b[38;5;241m=\u001b[39m required_by\u001b[38;5;241m.\u001b[39mget(req, \u001b[38;5;28;01mNone\u001b[39;00m)\n\u001b[1;32m--> 870\u001b[0m         \u001b[38;5;28;01mraise\u001b[39;00m DistributionNotFound(req, requirers)\n\u001b[0;32m    871\u001b[0m to_activate\u001b[38;5;241m.\u001b[39mappend(dist)\n",
      "\u001b[1;31mDistributionNotFound\u001b[0m: The 'bioblend' distribution was not found and is required by the application",
      "\nDuring handling of the above exception, another exception occurred:\n",
      "\u001b[1;31mCalledProcessError\u001b[0m                        Traceback (most recent call last)",
      "Cell \u001b[1;32mIn[2], line 20\u001b[0m\n\u001b[0;32m     18\u001b[0m \u001b[38;5;28;01mexcept\u001b[39;00m pkg_resources\u001b[38;5;241m.\u001b[39mDistributionNotFound:\n\u001b[0;32m     19\u001b[0m     \u001b[38;5;28mprint\u001b[39m(\u001b[38;5;124m'\u001b[39m\u001b[38;5;132;01m{}\u001b[39;00m\u001b[38;5;124m is NOT installed\u001b[39m\u001b[38;5;124m'\u001b[39m\u001b[38;5;241m.\u001b[39mformat(package))\n\u001b[1;32m---> 20\u001b[0m     \u001b[43minstall\u001b[49m\u001b[43m(\u001b[49m\u001b[43mpackage\u001b[49m\u001b[43m)\u001b[49m\n\u001b[0;32m     21\u001b[0m     \u001b[38;5;28mprint\u001b[39m(\u001b[38;5;124m'\u001b[39m\u001b[38;5;132;01m{}\u001b[39;00m\u001b[38;5;124m was successfully installed.\u001b[39m\u001b[38;5;124m'\u001b[39m\u001b[38;5;241m.\u001b[39mformat(package))\n",
      "Cell \u001b[1;32mIn[2], line 6\u001b[0m, in \u001b[0;36minstall\u001b[1;34m(package)\u001b[0m\n\u001b[0;32m      5\u001b[0m \u001b[38;5;28;01mdef\u001b[39;00m \u001b[38;5;21minstall\u001b[39m(package):\n\u001b[1;32m----> 6\u001b[0m     \u001b[43msubprocess\u001b[49m\u001b[38;5;241;43m.\u001b[39;49m\u001b[43mcheck_call\u001b[49m\u001b[43m(\u001b[49m\u001b[43m[\u001b[49m\u001b[43msys\u001b[49m\u001b[38;5;241;43m.\u001b[39;49m\u001b[43mexecutable\u001b[49m\u001b[43m,\u001b[49m\u001b[43m \u001b[49m\u001b[38;5;124;43m\"\u001b[39;49m\u001b[38;5;124;43m-m\u001b[39;49m\u001b[38;5;124;43m\"\u001b[39;49m\u001b[43m,\u001b[49m\u001b[43m \u001b[49m\u001b[38;5;124;43m\"\u001b[39;49m\u001b[38;5;124;43mpip\u001b[39;49m\u001b[38;5;124;43m\"\u001b[39;49m\u001b[43m,\u001b[49m\u001b[43m \u001b[49m\u001b[38;5;124;43m\"\u001b[39;49m\u001b[38;5;124;43minstall\u001b[39;49m\u001b[38;5;124;43m\"\u001b[39;49m\u001b[43m,\u001b[49m\u001b[43m \u001b[49m\u001b[43mpackage\u001b[49m\u001b[43m]\u001b[49m\u001b[43m)\u001b[49m\n",
      "File \u001b[1;32mc:\\Users\\morte\\AppData\\Local\\Programs\\Python\\Python312\\Lib\\subprocess.py:413\u001b[0m, in \u001b[0;36mcheck_call\u001b[1;34m(*popenargs, **kwargs)\u001b[0m\n\u001b[0;32m    411\u001b[0m     \u001b[38;5;28;01mif\u001b[39;00m cmd \u001b[38;5;129;01mis\u001b[39;00m \u001b[38;5;28;01mNone\u001b[39;00m:\n\u001b[0;32m    412\u001b[0m         cmd \u001b[38;5;241m=\u001b[39m popenargs[\u001b[38;5;241m0\u001b[39m]\n\u001b[1;32m--> 413\u001b[0m     \u001b[38;5;28;01mraise\u001b[39;00m CalledProcessError(retcode, cmd)\n\u001b[0;32m    414\u001b[0m \u001b[38;5;28;01mreturn\u001b[39;00m \u001b[38;5;241m0\u001b[39m\n",
      "\u001b[1;31mCalledProcessError\u001b[0m: Command '['c:\\\\Users\\\\morte\\\\AppData\\\\Local\\\\Programs\\\\Python\\\\Python312\\\\python.exe', '-m', 'pip', 'install', 'bioblend']' returned non-zero exit status 1."
     ]
    }
   ],
   "source": [
    "import sys\n",
    "import subprocess\n",
    "import pkg_resources\n",
    "\n",
    "def install(package):\n",
    "    subprocess.check_call([sys.executable, \"-m\", \"pip\", \"install\", package])\n",
    "\n",
    "REQUIRED_PACKAGES = [\n",
    "    'bioblend',\n",
    "    'biopython',\n",
    "    'pandas'\n",
    "]\n",
    "\n",
    "for package in REQUIRED_PACKAGES:\n",
    "    try:\n",
    "        dist = pkg_resources.get_distribution(package)\n",
    "        print('{} ({}) is installed'.format(dist.key, dist.version))\n",
    "    except pkg_resources.DistributionNotFound:\n",
    "        print('{} is NOT installed'.format(package))\n",
    "        install(package)\n",
    "        print('{} was successfully installed.'.format(package))"
   ]
  },
  {
   "cell_type": "markdown",
   "metadata": {},
   "source": [
    "## Part 1: Assembling Using Galaxy\n",
    "\n",
    "#### Option 1: Python Notebook\n",
    "\n",
    "Finish this section of notebook to assemble a genome from a fasta file with short-read sequences.\n",
    "\n",
    "#### Option 2: Galaxy Web Interface\n",
    "\n",
    "Alternatively, you can use the Galaxy web interface at usegalaxy.org to complete the assembly. This approach allows you to experience the ease and efficiency of Galaxy's web-based tools.\n"
   ]
  },
  {
   "cell_type": "code",
   "execution_count": 4,
   "metadata": {},
   "outputs": [
    {
     "name": "stderr",
     "output_type": "stream",
     "text": [
      "python: can't open file 'd:\\\\university\\\\Master\\\\Term 1\\\\Introduction to bioinformatics\\\\Introduction to bioinformatics\\\\Project\\\\bioinformatics-project\\\\find-the-imposter\\\\import': [Errno 2] No such file or directory\n"
     ]
    }
   ],
   "source": [
    "!python import sys !{sys.executable} -m pip install bioblend"
   ]
  },
  {
   "cell_type": "code",
   "execution_count": 41,
   "metadata": {},
   "outputs": [],
   "source": [
    "from dotenv import load_dotenv\n",
    "import os\n",
    "\n",
    "# Load environment variables from .env file\n",
    "load_dotenv(dotenv_path='../../.env')\n",
    "\n",
    "# You can create your API key by registering at usegalaxy website, and from user settings section.\n",
    "# It is recommended that you store this key as an environment variable, and not expose it!\n",
    "api_key = \"a52a7712bfc212b60514205bfc79191e\""
   ]
  },
  {
   "cell_type": "code",
   "execution_count": 42,
   "metadata": {},
   "outputs": [],
   "source": [
    "import bioblend.galaxy\n",
    "\n",
    "# Initialize Galaxy instance\n",
    "gi = bioblend.galaxy.GalaxyInstance(url='https://usegalaxy.org', key=api_key)"
   ]
  },
  {
   "cell_type": "code",
   "execution_count": 43,
   "metadata": {},
   "outputs": [
    {
     "data": {
      "text/plain": [
       "{'outputs': [{'id': 'f9cad7b01a472135263933625a4631d3',\n",
       "   'hda_ldda': 'hda',\n",
       "   'uuid': '97b2d938-8ac2-42a3-ad43-0e8a328e355e',\n",
       "   'hid': 1,\n",
       "   'file_ext': 'auto',\n",
       "   'peek': None,\n",
       "   'model_class': 'HistoryDatasetAssociation',\n",
       "   'name': 'short_reads.fasta',\n",
       "   'deleted': False,\n",
       "   'purged': False,\n",
       "   'visible': True,\n",
       "   'state': 'queued',\n",
       "   'history_content_type': 'dataset',\n",
       "   'file_size': 0,\n",
       "   'create_time': '2024-01-19T01:54:40.412132',\n",
       "   'update_time': '2024-01-19T01:54:40.432578',\n",
       "   'data_type': 'galaxy.datatypes.data.Data',\n",
       "   'genome_build': '?',\n",
       "   'validated_state': 'unknown',\n",
       "   'validated_state_message': None,\n",
       "   'misc_info': None,\n",
       "   'misc_blurb': None,\n",
       "   'tags': [],\n",
       "   'history_id': '97bfdd7e3a68efa7',\n",
       "   'metadata_dbkey': '?',\n",
       "   'output_name': 'output0'}],\n",
       " 'output_collections': [],\n",
       " 'jobs': [{'model_class': 'Job',\n",
       "   'id': 'bbd44e69cb8906b5b8a5fbbeb6bc3bd6',\n",
       "   'state': 'new',\n",
       "   'exit_code': None,\n",
       "   'update_time': '2024-01-19T01:54:40.467496',\n",
       "   'create_time': '2024-01-19T01:54:40.442753',\n",
       "   'galaxy_version': '23.2',\n",
       "   'tool_id': '__DATA_FETCH__',\n",
       "   'history_id': '97bfdd7e3a68efa7'}],\n",
       " 'implicit_collections': [],\n",
       " 'produces_entry_points': False}"
      ]
     },
     "execution_count": 43,
     "metadata": {},
     "output_type": "execute_result"
    }
   ],
   "source": [
    "# Upload the fasta file to Galaxy\n",
    "fasta_path = '/content/short_reads.fasta'\n",
    "fasta_hist = gi.histories.create_history(name=\"FindTheImposterTask_Fasta\")\n",
    "fasta_dict = gi.tools.upload_file(fasta_path, fasta_hist['id'], type='fasta')\n",
    "\n",
    "fasta_dict"
   ]
  },
  {
   "cell_type": "code",
   "execution_count": 45,
   "metadata": {},
   "outputs": [],
   "source": [
    "# Identify and Prepare the Assembly Tool\n",
    "\n",
    "# Retrieve SPAdes assembly tool from Galaxy's tool repository.\n",
    "assembly_tool_name = 'SPAdes'\n",
    "assembly_tool = gi.tools.get_tools(name=assembly_tool_name)[0]\n",
    "\n",
    "# Prepare inputs for the SPAdes assembly tool\n",
    "assembly_params = {\n",
    "    # Set the mode for the assembly. SPAdes has different modes like 'careful', 'normal', etc.\n",
    "    # Refer to SPAdes documentation to understand what modes are available and what each mode does.\n",
    "    'mode_sel': '--careful',\n",
    "    \n",
    "    # Specify the operation mode. SPAdes allows different operations like error correction, only assembly, etc.\n",
    "    # Select the one that aligns with your project requirements.\n",
    "    'operation_mode': '--only-assembler',\n",
    "}\n",
    "\n",
    "# Run the SPAdes Assembly Tool\n",
    "try:\n",
    "    assembly_dict = gi.tools.run_tool(fasta_hist['id'], assembly_tool['id'], assembly_params)\n",
    "except ConnectionError as e:\n",
    "    print(f\"Failed to run the assembly tool: {e}\")\n",
    "    raise\n",
    "\n",
    "# Wait for the assembly job to complete\n",
    "assembly_dict = gi.jobs.wait_for_job(job_id=assembly_dict['jobs'][0]['id'], maxwait=120, interval=5, check=True)"
   ]
  },
  {
   "cell_type": "code",
   "execution_count": null,
   "metadata": {},
   "outputs": [],
   "source": [
    "assembly_dict"
   ]
  },
  {
   "cell_type": "code",
   "execution_count": 73,
   "metadata": {},
   "outputs": [],
   "source": [
    "# Download the assembled genome from Galaxy. You can use the `download_dataset` method. A FASTA file, containing assembly\n",
    "# of the whole sequence is what we expect here. "
   ]
  },
  {
   "cell_type": "code",
   "execution_count": null,
   "metadata": {},
   "outputs": [],
   "source": [
    "gi.datasets.download_dataset('f9cad7b01a4721351fcb1f6e1d6576f1', file_path='.')"
   ]
  },
  {
   "cell_type": "markdown",
   "metadata": {},
   "source": [
    "### Part 2: Using BLAST to Query The Assembled Sequence\n",
    "\n",
    "In this part of the notebook, you will utilize the NCBI BLAST API to analyze the genome sequence you've assembled. This involves integrating the API into your notebook, submitting your sequence for BLAST querying, and then meticulously examining the results. Your focus will be on identifying similarities or unique traits in the sequence compared to others in the NCBI database, particularly exploring its relationship with known sequences in various species. This step is crucial for understanding the evolutionary and biological significance of your assembled genome.\n",
    "\n",
    "**Note**: Unlike the previous section, for this one, you must deliver the full code in the notebook. Doing this part using website will not be graded. "
   ]
  },
  {
   "cell_type": "code",
   "execution_count": 74,
   "metadata": {},
   "outputs": [],
   "source": [
    "# Import necessary libraries\n",
    "from Bio.Blast import NCBIWWW\n",
    "from Bio.Blast import NCBIXML\n",
    "from collections import defaultdict\n",
    "\n"
   ]
  },
  {
   "cell_type": "code",
   "execution_count": null,
   "metadata": {},
   "outputs": [],
   "source": [
    "# Load the assembled genome\n",
    "with open('/content/Galaxy11-[SPAdes_on_data_1__Contigs].fasta', 'r') as file:\n",
    "    assembled_genome = file.read()\n",
    "\n",
    "assembled_genome"
   ]
  },
  {
   "cell_type": "code",
   "execution_count": 89,
   "metadata": {},
   "outputs": [],
   "source": [
    "from Bio.Blast import NCBIWWW\n",
    "\n",
    "# Perform the BLAST query, filtering for eukaryotes\n",
    "eukaryote_tax_id = \"2759\"\n",
    "\n",
    "### TODO ###\n",
    "result_handle = NCBIWWW.qblast(program='blastn',\n",
    "                               database='nr',\n",
    "                               sequence=assembled_genome,\n",
    "                               entrez_query='', # Only filter Eucaryotes. Hint: You can do this by giving their taxonomy id.\n",
    "                               hitlist_size=100,\n",
    "                               word_size=16)\n",
    "### TODO ###\n"
   ]
  },
  {
   "cell_type": "code",
   "execution_count": 90,
   "metadata": {},
   "outputs": [
    {
     "data": {
      "text/plain": [
       "<generator object parse at 0x0000020D4D9B1540>"
      ]
     },
     "execution_count": 90,
     "metadata": {},
     "output_type": "execute_result"
    }
   ],
   "source": [
    "from Bio.Blast import NCBIXML\n",
    "\n",
    "blast_records = NCBIXML.parse(result_handle)\n",
    "\n",
    "blast_records"
   ]
  },
  {
   "cell_type": "code",
   "execution_count": null,
   "metadata": {},
   "outputs": [],
   "source": [
    "import pandas as pd\n",
    "from Bio import Entrez\n",
    "\n",
    "# Set your email here for Entrez\n",
    "Entrez.email = \"your.email@example.com\"\n",
    "\n",
    "def fetch_taxonomy_info(accession):\n",
    "    \"\"\"\n",
    "    Fetch taxonomy information using Entrez for a given accession number.\n",
    "    \"\"\"\n",
    "    handle = Entrez.efetch(db=\"nucleotide\", id=accession, retmode=\"xml\")\n",
    "    records = Entrez.read(handle)\n",
    "\n",
    "    ### TODO ###\n",
    "\n",
    "    taxonomy = records[0][\"GBSeq_taxonomy\"]\n",
    "    species = records[0][\"GBSeq_organism\"]\n",
    "\n",
    "    ### TODO ###\n",
    "\n",
    "    return taxonomy, species\n",
    "\n",
    "\n",
    "def parse_blast_results():\n",
    "    \"\"\"\n",
    "    Parse BLAST results and extract relevant information including taxonomy.\n",
    "    \"\"\"\n",
    "    blast_results = []\n",
    "\n",
    "    for record in blast_records:\n",
    "        for alignment in record.alignments:\n",
    "            accession = alignment.accession\n",
    "            taxonomy, species = fetch_taxonomy_info(accession)\n",
    "            for hsp in alignment.hsps:\n",
    "                # These fields are required in your submission\n",
    "                blast_results.append({\n",
    "                    'query_id': record.query_id,\n",
    "                    'alignment_title': alignment.title,\n",
    "                    'e_value': hsp.expect,\n",
    "                    'identity': hsp.identities,\n",
    "                    'accession': accession,\n",
    "                    'taxonomy': taxonomy,\n",
    "                    'species': species\n",
    "                })\n",
    "    return blast_results\n",
    "\n",
    "\n",
    "blast_results = parse_blast_results()\n",
    "df = pd.DataFrame(blast_results)\n",
    "df.to_csv('./outputs/blast_results_with_taxonomy.csv', index=False)\n",
    "\n",
    "df.head()"
   ]
  },
  {
   "cell_type": "markdown",
   "metadata": {},
   "source": [
    "## Analysis of The Results\n",
    "\n",
    "### Drawing Your Own Conclusions\n",
    "\n",
    "Now that you have completed the BLAST search, a fascinating part of your journey begins – interpreting the data. This stage is where your critical thinking and creativity come into play. From now on, the rest of the notebook will be about whatever you want it to be. Any path that leads to meaningful insights about the data and provides a solid conclusion for the task is acceptable. Let's explore some possible directions:\n",
    "\n",
    "1. **Species-Specific Patterns:** Examine if the sequence is found exclusively or predominantly in certain species. What could this suggest about its evolution and adaptation? While the focus is not on finding a 'correct' answer, pondering this aspect can lead to interesting hypotheses about species-specific interactions.\n",
    "\n",
    "2. **Functional Insights:** Reflect on the potential roles this sequence might play within the genomes where it's found. Could it be integral to certain biological functions, or a legacy of ancient genomic events?\n",
    "\n",
    "3. **Comparative Genomics:** Compare your findings with sequences in other species. Notice any striking similarities or differences? These comparisons could shed light on the sequence's evolutionary journey.\n",
    "\n",
    "4. **Ecological and Environmental Context:** Consider the ecological and environmental factors that might influence the distribution and evolution of this sequence. How might habitat or lifestyle of the species play a role in its presence or absence?\n",
    "\n",
    "### Additional Tips and Encouragement\n",
    "\n",
    "This project is more about the learning journey and less about achieving perfect results. Here are some additional pointers:\n",
    "\n",
    "1. **Deep Dives:** Encourage yourself to explore the data thoroughly. Use various bioinformatics tools to gain a holistic understanding.\n",
    "\n",
    "2. **Creative Visualization:** Craft visual representations of your analysis. Effective use of charts or infographics can provide insightful perspectives.\n",
    "\n",
    "3. **Open-Ended Exploration:** Feel free to extend your analysis in directions you find intriguing. This could include phylogenetic studies or exploring the ecological aspects of the sequence.\n",
    "\n",
    "Remember, this project is designed to be a learning experience. We don't expect you to uncover all the answers but rather to engage thoughtfully with the data and enjoy the process of discovery."
   ]
  },
  {
   "cell_type": "code",
   "execution_count": null,
   "metadata": {},
   "outputs": [],
   "source": [
    "### TODO ###"
   ]
  }
 ],
 "metadata": {
  "kernelspec": {
   "display_name": "Python 3",
   "language": "python",
   "name": "python3"
  },
  "language_info": {
   "codemirror_mode": {
    "name": "ipython",
    "version": 3
   },
   "file_extension": ".py",
   "mimetype": "text/x-python",
   "name": "python",
   "nbconvert_exporter": "python",
   "pygments_lexer": "ipython3",
   "version": "3.12.0"
  }
 },
 "nbformat": 4,
 "nbformat_minor": 2
}
